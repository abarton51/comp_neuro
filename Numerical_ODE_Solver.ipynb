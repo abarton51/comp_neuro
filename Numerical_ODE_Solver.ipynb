{
 "cells": [
  {
   "cell_type": "code",
   "execution_count": null,
   "metadata": {},
   "outputs": [],
   "source": [
    "import matplotlib.pyplot as plt\n",
    "import numpy as np"
   ]
  },
  {
   "cell_type": "code",
   "execution_count": null,
   "metadata": {},
   "outputs": [],
   "source": [
    "# Define the differential equation dy/dt = y\n",
    "def f(t, y):\n",
    "    return y\n",
    "\n",
    "# Initial conditions\n",
    "t0 = 0  # Initial time\n",
    "tn = 5  # The final time you want to compute y(t) for\n",
    "y0 = 4  # Initial value of y at t0\n",
    "dt = 0.1  # Step size, 0.1, 0.2"
   ]
  },
  {
   "cell_type": "code",
   "execution_count": null,
   "metadata": {},
   "outputs": [],
   "source": [
    "# Exact solution\n",
    "def exact_solution(t):\n",
    "    return y0 * np.exp(t)\n"
   ]
  },
  {
   "cell_type": "code",
   "execution_count": null,
   "metadata": {},
   "outputs": [],
   "source": [
    "# Euler method\n",
    "def euler_method(func, y0, t0, tn, dt):\n",
    "    \"\"\"\n",
    "    Solve the ODE using Euler's method.\n",
    "\n",
    "    Parameters:\n",
    "        func: A function representing the ODE dy/dt = f(t, y).\n",
    "        y0: Initial value of y at t0.\n",
    "        t0: Initial value of t.\n",
    "        tn: Final value of t.\n",
    "        dt: Step size.\n",
    "\n",
    "    Returns:\n",
    "        Two lists: t_values and y_values containing the computed values of t and y.\n",
    "    \"\"\"\n",
    "    t_values = [t0]\n",
    "    y_values = [y0]\n",
    "    t = t0\n",
    "    y = y0\n",
    "\n",
    "    while t < tn:\n",
    "        y += dt*func(t, y) ##Euler's method formula ##\n",
    "        t += dt ##  dt-step forward ##\n",
    "        t_values.append(t)\n",
    "        y_values.append(y)\n",
    "\n",
    "    return t_values, y_values\n",
    "\n",
    "\n",
    "\n",
    "# Compute the solution using Euler's method\n",
    "t_values, euler_y_values = euler_method(f, y0, t0, tn, dt)\n",
    "\n"
   ]
  },
  {
   "cell_type": "code",
   "execution_count": null,
   "metadata": {},
   "outputs": [],
   "source": [
    "# Compute the exact solution values\n",
    "exact_y_values = [exact_solution(t) for t in t_values]"
   ]
  },
  {
   "cell_type": "code",
   "execution_count": null,
   "metadata": {},
   "outputs": [],
   "source": [
    "# Plot both the Euler method and exact solutions\n",
    "plt.figure(figsize=(8, 6))\n",
    "plt.plot(t_values, euler_y_values, label='Euler Method')\n",
    "plt.plot(t_values, exact_y_values, label='Exact Solution', linestyle='--')\n",
    "plt.xlabel('t')\n",
    "plt.ylabel('y')\n",
    "plt.title('Euler Method vs Exact Solution for dy/dt = y')\n",
    "plt.legend()\n",
    "plt.grid(True)\n",
    "plt.show()"
   ]
  },
  {
   "cell_type": "code",
   "execution_count": null,
   "metadata": {},
   "outputs": [],
   "source": [
    "# Calculate the absolute error and relative error at each time step\n",
    "absolute_errors_Eul = [abs(exact_y - euler_y) for exact_y, euler_y in zip(exact_y_values, euler_y_values)]\n",
    "relative_errors_Eul = [abs(exact_y - euler_y)/exact_y for exact_y, euler_y in zip(exact_y_values, euler_y_values)]"
   ]
  },
  {
   "cell_type": "code",
   "execution_count": null,
   "metadata": {},
   "outputs": [],
   "source": [
    "def improved_euler_method(func, y0, t0, tn, dt):\n",
    "    \"\"\"\n",
    "    Solve the ODE using Improved Euler's method.\n",
    "\n",
    "    Parameters:\n",
    "        func: A function representing the ODE dy/dt = f(t, y).\n",
    "        y0: Initial value of y at t0.\n",
    "        t0: Initial value of t.\n",
    "        tn: Final value of t.\n",
    "        dt: Step size.\n",
    "\n",
    "    Returns:\n",
    "        Two lists: t_values and y_values containing the computed values of t and y.\n",
    "    \"\"\"\n",
    "    \n",
    "    t_values = [t0]\n",
    "    y_values = [y0]\n",
    "    t = t0\n",
    "    y = y0\n",
    "\n",
    "    while t < tn:\n",
    "        \n",
    "        # First evaluation of the derivative \n",
    "        f1 = func(t, y)  \n",
    "        y_predictor =  y + dt*f1 ##  Predicted value of y at the next step by Euler method ##\n",
    "        \n",
    "        t += dt\n",
    "        \n",
    "        # Second evaluation of the derivative\n",
    "        f2 = func(t, y_predictor)  \n",
    "        y_corrector = y + (dt/2)*(f1 + f2) ## Corrected value of y at the next step; Improved Euler Method calculation ##\n",
    "        \n",
    "        t_values.append(t)\n",
    "        y_values.append(y_corrector)\n",
    "        \n",
    "        y = y_corrector\n",
    "\n",
    "    return t_values, y_values\n",
    "\n",
    "\n",
    "# Compute the solution using the Improved Euler method\n",
    "t_values, improved_y_values = improved_euler_method(f, y0, t0, tn, dt)\n",
    "\n",
    "# Plot the results\n",
    "plt.figure(figsize=(8, 6))\n",
    "plt.plot(t_values, improved_y_values, label='Improved Euler Method')\n",
    "plt.plot(t_values, exact_y_values, label='Exact Solution', linestyle='--')\n",
    "plt.xlabel('t')\n",
    "plt.ylabel('y')\n",
    "plt.title('Improved Euler Method Solution for dy/dt = y')\n",
    "plt.legend()\n",
    "plt.grid(True)\n",
    "plt.show()\n"
   ]
  },
  {
   "cell_type": "code",
   "execution_count": null,
   "metadata": {},
   "outputs": [],
   "source": [
    "# Calculate the absolute error and relative error at each time step\n",
    "absolute_errors_ImpEul = [abs(exact_y - improved_y) for exact_y, improved_y in zip(exact_y_values, improved_y_values)]\n",
    "relative_errors_ImpEul = [abs(exact_y - improved_y)/exact_y for exact_y, improved_y in zip(exact_y_values, improved_y_values)]"
   ]
  }
 ],
 "metadata": {
  "kernelspec": {
   "display_name": "Python 3 (ipykernel)",
   "language": "python",
   "name": "python3"
  },
  "language_info": {
   "codemirror_mode": {
    "name": "ipython",
    "version": 3
   },
   "file_extension": ".py",
   "mimetype": "text/x-python",
   "name": "python",
   "nbconvert_exporter": "python",
   "pygments_lexer": "ipython3",
   "version": "3.11.7"
  }
 },
 "nbformat": 4,
 "nbformat_minor": 4
}
